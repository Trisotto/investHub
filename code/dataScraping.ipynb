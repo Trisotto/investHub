{
 "cells": [
  {
   "cell_type": "markdown",
   "metadata": {},
   "source": [
    "## Libraries imports\n",
    "\n",
    "Firts step we need to import all libraries we going to use, like:\n",
    "\n",
    "- <strong>requests</strong> used to make our http requests at the page  where we want to scrape data.\n",
    "- <strong>fromstring</strong> used to parse our html page into a string.\n",
    "- <strong>cycle</strong> used to create a cycle of proxies for our requests.\n",
    "- <strong>BeautifulSoup</strong> used to parse, filter by tag and scrap specific data from the web page.\n",
    "- <strong>pandas</strong> used to interact with the tables and lists colected from the web page and export them.\n",
    "- <strong>time & random</strong> \n",
    "- <strong>clear_output</strong> \n",
    "- <strong>warnings</strong> "
   ]
  },
  {
   "cell_type": "code",
   "execution_count": 19,
   "metadata": {
    "executionInfo": {
     "elapsed": 3,
     "status": "ok",
     "timestamp": 1624908221514,
     "user": {
      "displayName": "Felipe Trisotto",
      "photoUrl": "https://lh3.googleusercontent.com/a-/AOh14GhIkZu_o_HHZ56_oaRbxDklMWr2c1NzLwNmyHqptA=s64",
      "userId": "13510831874470761357"
     },
     "user_tz": 180
    },
    "id": "RWobq4s8-i4E"
   },
   "outputs": [],
   "source": [
    "# Libraries imports\n",
    "from lxml.html import fromstring\n",
    "from itertools import cycle\n",
    "from bs4 import BeautifulSoup\n",
    "from IPython.display import clear_output\n",
    "import requests as req\n",
    "import pandas as pd\n",
    "import time, random\n",
    "import warnings as wrns"
   ]
  },
  {
   "cell_type": "markdown",
   "metadata": {},
   "source": [
    "## Defining Folder and Headers"
   ]
  },
  {
   "cell_type": "code",
   "execution_count": 2,
   "metadata": {
    "id": "Xj3R9wIWASRt"
   },
   "outputs": [],
   "source": [
    "# Folder to save scraped files\n",
    "folder = \"G:/Google Drive/Colab Notebooks/investHub/data/raw/\"\n",
    "\n",
    "# Request Headers\n",
    "headers = {'Accept': 'text/html,application/xhtml+xml,application/xml;q=0.9,image/avif,image/webp,image/apng,*/*;q=0.8,application/signed-exchange;v=b3;q=0.9',\n",
    "              'Accept-Encoding': 'deflate, br',\n",
    "              'Accept-Language': 'pt-BR,pt;q=0.9,en;q=0.8',\n",
    "              'Cache-Control': 'max-age=0',\n",
    "              'Connection': 'keep-alive',\n",
    "              #'Content-Length': '254',\n",
    "              #'Content-Type': 'application/x-www-form-urlencoded',\n",
    "              #'Cookie': 'ASP.NET_SessionId=5yx0ptz53yt1mibxavmqyb1v; uid=9112324E72B36CDCAF433C566D19FCC6; origem=https://www.oceans14.com.br/acoes/; _ga=GA1.3.1992174690.1623332100; _gid=GA1.3.1928600702.1623332100; Sessao=3933DA519B26445B10C8521140884D75; tipoUsuario=UsuÃ¡rio; contadorViewsAcoes=0',\n",
    "              #'Host': 'www.oceans14.com.br',\n",
    "              #'Origin': 'https://www.oceans14.com.br',\n",
    "              #'Referer': 'https://www.oceans14.com.br/acoes/',\n",
    "              #'Sec-Fetch-Mode': 'navigate',\n",
    "              #'Sec-Fetch-Site': 'same-origin',\n",
    "              #'Sec-Fetch-User': '?1',\n",
    "              #'Upgrade-Insecure-Requests': '1',\n",
    "              'User-Agent': 'Mozilla/5.0 (Windows NT 10.0; Win64; x64) AppleWebKit/537.36 (KHTML, like Gecko) Chrome/91.0.4472.77 Safari/537.36'\n",
    "              }"
   ]
  },
  {
   "cell_type": "code",
   "execution_count": 13,
   "metadata": {
    "executionInfo": {
     "elapsed": 239,
     "status": "ok",
     "timestamp": 1624908272381,
     "user": {
      "displayName": "Felipe Trisotto",
      "photoUrl": "https://lh3.googleusercontent.com/a-/AOh14GhIkZu_o_HHZ56_oaRbxDklMWr2c1NzLwNmyHqptA=s64",
      "userId": "13510831874470761357"
     },
     "user_tz": 180
    },
    "id": "5TdKikyqdVnm"
   },
   "outputs": [],
   "source": [
    "# Function to Scrap proxies\n",
    "def get_proxies(qtd_min):\n",
    "    url = 'https://www.sslproxies.org/'\n",
    "    proxies = set()\n",
    "    while True:\n",
    "        response = requests.get(url)\n",
    "        parser = fromstring(response.text)\n",
    "        for i in parser.xpath('//tbody/tr')[:100]:\n",
    "            if i.xpath('.//td[7][contains(text(),\"yes\")]'):\n",
    "                proxy = \":\".join([i.xpath('.//td[1]/text()')[0], i.xpath('.//td[2]/text()')[0]])\n",
    "                proxies.add(proxy)\n",
    "        if len(proxies) < qtd_min:\n",
    "            for sleeping in range(600,0,-1):#Time to free proxies refresh\n",
    "                time.sleep(1)\n",
    "                clear_output()\n",
    "                print(str(len(proxies)/qtd_min*100) + '%')\n",
    "                print('New Request in ' + str(sleeping) + '...')\n",
    "            continue\n",
    "        else:\n",
    "            break\n",
    "    clear_output()\n",
    "    print('Done...' + str(len(proxies)) + 'proxies!')\n",
    "    return proxies"
   ]
  },
  {
   "cell_type": "code",
   "execution_count": 53,
   "metadata": {
    "id": "qnFAcCrE8G_p"
   },
   "outputs": [
    {
     "name": "stdout",
     "output_type": "stream",
     "text": [
      "256\n",
      "['https://www.oceans14.com.br/acoes/lavvi/lavv3/balanco-dividendos', 'https://www.oceans14.com.br/acoes/hospital-mater-dei/matd3/balanco-dividendos', 'https://www.oceans14.com.br/acoes/aes-tiete/aesb3/balanco-dividendos', 'https://www.oceans14.com.br/acoes/anima-educacao/anim3/balanco-dividendos', 'https://www.oceans14.com.br/acoes/usiminas/usim/balanco-dividendos', 'https://www.oceans14.com.br/acoes/coelce/coce/balanco-dividendos', 'https://www.oceans14.com.br/acoes/raia-drogasil/radl3/balanco-dividendos', 'https://www.oceans14.com.br/acoes/bb-seguridade/bbse3/balanco-dividendos', 'https://www.oceans14.com.br/acoes/localiza/rent3/balanco-dividendos', 'https://www.oceans14.com.br/acoes/banrisul/brsr/balanco-dividendos', 'https://www.oceans14.com.br/acoes/vale/vale3/balanco-dividendos', 'https://www.oceans14.com.br/acoes/klabin/klbn/balanco-dividendos', 'https://www.oceans14.com.br/acoes/petrobras/petr/balanco-dividendos', 'https://www.oceans14.com.br/acoes/hypera/hype3/balanco-dividendos', 'https://www.oceans14.com.br/acoes/cyrela/cyre3/balanco-dividendos', 'https://www.oceans14.com.br/acoes/3r-petroleum/rrrp3/balanco-dividendos', 'https://www.oceans14.com.br/acoes/enauta/enat3/balanco-dividendos', 'https://www.oceans14.com.br/acoes/fleury/flry3/balanco-dividendos', 'https://www.oceans14.com.br/acoes/cemig/cmig/balanco-dividendos', 'https://www.oceans14.com.br/acoes/mobly/mbly3/balanco-dividendos', 'https://www.oceans14.com.br/acoes/neogrid/ngrd3/balanco-dividendos', 'https://www.oceans14.com.br/acoes/neoenergia/neoe3/balanco-dividendos', 'https://www.oceans14.com.br/acoes/arezzo/arzz3/balanco-dividendos', 'https://www.oceans14.com.br/acoes/unipar/unip/balanco-dividendos', 'https://www.oceans14.com.br/acoes/br-distribuidora/brdt3/balanco-dividendos', 'https://www.oceans14.com.br/acoes/kepler-weber/kepl3/balanco-dividendos', 'https://www.oceans14.com.br/acoes/westwing/west3/balanco-dividendos', 'https://www.oceans14.com.br/acoes/lojas-renner/lren3/balanco-dividendos', 'https://www.oceans14.com.br/acoes/cury/cury3/balanco-dividendos', 'https://www.oceans14.com.br/acoes/dasa/dasa3/balanco-dividendos', 'https://www.oceans14.com.br/acoes/alpargatas/alpa/balanco-dividendos', 'https://www.oceans14.com.br/acoes/viver/vivr3/balanco-dividendos', 'https://www.oceans14.com.br/acoes/copasa/csmg3/balanco-dividendos', 'https://www.oceans14.com.br/acoes/copel/cple/balanco-dividendos', 'https://www.oceans14.com.br/acoes/locaweb/lwsa3/balanco-dividendos', 'https://www.oceans14.com.br/acoes/boavista-scpc/boas3/balanco-dividendos', 'https://www.oceans14.com.br/acoes/mills/mils3/balanco-dividendos', 'https://www.oceans14.com.br/acoes/rede-energia/rede3/balanco-dividendos', 'https://www.oceans14.com.br/acoes/assai/asai3/balanco-dividendos', 'https://www.oceans14.com.br/acoes/weg/wege3/balanco-dividendos', 'https://www.oceans14.com.br/acoes/cosan/csan3/balanco-dividendos', 'https://www.oceans14.com.br/acoes/porto-seguro/pssa3/balanco-dividendos', 'https://www.oceans14.com.br/acoes/intelbras/intb3/balanco-dividendos', 'https://www.oceans14.com.br/acoes/tecnisa/tcsa3/balanco-dividendos', 'https://www.oceans14.com.br/acoes/dommo-energia/dmmo3/balanco-dividendos', 'https://www.oceans14.com.br/acoes/alupar/alup/balanco-dividendos', 'https://www.oceans14.com.br/acoes/simpar/simh3/balanco-dividendos', 'https://www.oceans14.com.br/acoes/santander/sanb11/balanco-dividendos', 'https://www.oceans14.com.br/acoes/ecorodovias/ecor3/balanco-dividendos', 'https://www.oceans14.com.br/acoes/hidrovias-brasil/hbsa3/balanco-dividendos', 'https://www.oceans14.com.br/acoes/login-logistica/logn3/balanco-dividendos', 'https://www.oceans14.com.br/acoes/yduqs/yduq3/balanco-dividendos', 'https://www.oceans14.com.br/acoes/ccr/ccro3/balanco-dividendos', 'https://www.oceans14.com.br/acoes/oceanpact/opct3/balanco-dividendos', 'https://www.oceans14.com.br/acoes/valid/vlid3/balanco-dividendos', 'https://www.oceans14.com.br/acoes/eucatex/euca/balanco-dividendos', 'https://www.oceans14.com.br/acoes/tecnosolo/tcno/balanco-dividendos', 'https://www.oceans14.com.br/acoes/btg-pactual/bpac/balanco-dividendos', 'https://www.oceans14.com.br/acoes/totvs/tots3/balanco-dividendos', 'https://www.oceans14.com.br/acoes/sulamerica/sula/balanco-dividendos', 'https://www.oceans14.com.br/acoes/ambipar/ambp3/balanco-dividendos', 'https://www.oceans14.com.br/acoes/advanced-health/adhm3/balanco-dividendos', 'https://www.oceans14.com.br/acoes/hapvida/hapv3/balanco-dividendos', 'https://www.oceans14.com.br/acoes/iochpe-maxion/mypk3/balanco-dividendos', 'https://www.oceans14.com.br/acoes/orizon-residuos/orvr3/balanco-dividendos', 'https://www.oceans14.com.br/acoes/omega-energia/omge3/balanco-dividendos', 'https://www.oceans14.com.br/acoes/sabesp/sbsp3/balanco-dividendos', 'https://www.oceans14.com.br/acoes/gerdau/ggbr/balanco-dividendos', 'https://www.oceans14.com.br/acoes/sinqia/sqia3/balanco-dividendos', 'https://www.oceans14.com.br/acoes/m-dias-branco/mdia3/balanco-dividendos', 'https://www.oceans14.com.br/acoes/sequoia/seql3/balanco-dividendos', 'https://www.oceans14.com.br/acoes/tronox/crpg/balanco-dividendos', 'https://www.oceans14.com.br/acoes/cpfl/cpfe3/balanco-dividendos', 'https://www.oceans14.com.br/acoes/petroreconcavo/recv3/balanco-dividendos', 'https://www.oceans14.com.br/acoes/restoque/llis3/balanco-dividendos', 'https://www.oceans14.com.br/acoes/celesc/clsc/balanco-dividendos', 'https://www.oceans14.com.br/acoes/engie/egie3/balanco-dividendos', 'https://www.oceans14.com.br/acoes/espaco-laser/espa3/balanco-dividendos', 'https://www.oceans14.com.br/acoes/smiles/smls3/balanco-dividendos', 'https://www.oceans14.com.br/acoes/iguatemi/igta3/balanco-dividendos', 'https://www.oceans14.com.br/acoes/natura/ntco3/balanco-dividendos', 'https://www.oceans14.com.br/acoes/eternit/eter3/balanco-dividendos', 'https://www.oceans14.com.br/acoes/biosev/bsev3/balanco-dividendos', 'https://www.oceans14.com.br/acoes/even/even3/balanco-dividendos', 'https://www.oceans14.com.br/acoes/springs/sgps3/balanco-dividendos', 'https://www.oceans14.com.br/acoes/locamerica/lcam3/balanco-dividendos', 'https://www.oceans14.com.br/acoes/atma-participacoes/atmp3/balanco-dividendos', 'https://www.oceans14.com.br/acoes/rumo-log/rail3/balanco-dividendos', 'https://www.oceans14.com.br/acoes/aliansce-sonae/also3/balanco-dividendos', 'https://www.oceans14.com.br/acoes/vivara/viva3/balanco-dividendos', 'https://www.oceans14.com.br/acoes/linx/linx3/balanco-dividendos', 'https://www.oceans14.com.br/acoes/ser-educacional/seer3/balanco-dividendos', 'https://www.oceans14.com.br/acoes/estapar/alpk3/balanco-dividendos', 'https://www.oceans14.com.br/acoes/eneva/enev3/balanco-dividendos', 'https://www.oceans14.com.br/acoes/frasle/fras3/balanco-dividendos', 'https://www.oceans14.com.br/acoes/paranapanema/pmam3/balanco-dividendos', 'https://www.oceans14.com.br/acoes/triunfo/tpis3/balanco-dividendos', 'https://www.oceans14.com.br/acoes/marfrig/mrfg3/balanco-dividendos', 'https://www.oceans14.com.br/acoes/vulcabras/vulc3/balanco-dividendos', 'https://www.oceans14.com.br/acoes/ferbasa/fesa4/balanco-dividendos', 'https://www.oceans14.com.br/acoes/cea/ceab3/balanco-dividendos', 'https://www.oceans14.com.br/acoes/lopes-brasil/lpsb3/balanco-dividendos', 'https://www.oceans14.com.br/acoes/brf/brfs3/balanco-dividendos', 'https://www.oceans14.com.br/acoes/grupo-gps/ggps3/balanco-dividendos', 'https://www.oceans14.com.br/acoes/cesp/cesp/balanco-dividendos', 'https://www.oceans14.com.br/acoes/pague-menos/pgmn3/balanco-dividendos', 'https://www.oceans14.com.br/acoes/via-varejo/vvar3/balanco-dividendos', 'https://www.oceans14.com.br/acoes/grupo-sbf/sbfg3/balanco-dividendos', 'https://www.oceans14.com.br/acoes/pdg-realty/pdgr3/balanco-dividendos', 'https://www.oceans14.com.br/acoes/cvc/cvcb3/balanco-dividendos', 'https://www.oceans14.com.br/acoes/energisa/engi/balanco-dividendos', 'https://www.oceans14.com.br/acoes/cr2-empreendimentos/crde3/balanco-dividendos', 'https://www.oceans14.com.br/acoes/grupo-soma/soma3/balanco-dividendos', 'https://www.oceans14.com.br/acoes/tenda/tend3/balanco-dividendos', 'https://www.oceans14.com.br/acoes/rossi-residencial/rsid3/balanco-dividendos', 'https://www.oceans14.com.br/acoes/telefonica/vivt3/balanco-dividendos', 'https://www.oceans14.com.br/acoes/plano-e-plano/plpl3/balanco-dividendos', 'https://www.oceans14.com.br/acoes/terra-santa/tesa3/balanco-dividendos', 'https://www.oceans14.com.br/acoes/ultrapar/ugpa3/balanco-dividendos', 'https://www.oceans14.com.br/acoes/petz/petz3/balanco-dividendos', 'https://www.oceans14.com.br/acoes/rede-dor/rdor3/balanco-dividendos', 'https://www.oceans14.com.br/acoes/csu-cardsystem/card3/balanco-dividendos', 'https://www.oceans14.com.br/acoes/br-malls/brml3/balanco-dividendos', 'https://www.oceans14.com.br/acoes/b2w/btow3/balanco-dividendos', 'https://www.oceans14.com.br/acoes/duratex/dtex3/balanco-dividendos', 'https://www.oceans14.com.br/acoes/b3/b3sa3/balanco-dividendos', 'https://www.oceans14.com.br/acoes/banestes/bees/balanco-dividendos', 'https://www.oceans14.com.br/acoes/alper-seguros/aper3/balanco-dividendos', 'https://www.oceans14.com.br/acoes/petro-rio/prio3/balanco-dividendos', 'https://www.oceans14.com.br/acoes/csn-mineracao/cmin3/balanco-dividendos', 'https://www.oceans14.com.br/acoes/pao-de-acucar/pcar3/balanco-dividendos', 'https://www.oceans14.com.br/acoes/quero-quero/ljqq3/balanco-dividendos', 'https://www.oceans14.com.br/acoes/itau-unibanco/itub/balanco-dividendos', 'https://www.oceans14.com.br/acoes/imc/meal3/balanco-dividendos', 'https://www.oceans14.com.br/acoes/schulz/shul4/balanco-dividendos', 'https://www.oceans14.com.br/acoes/ourofino/ofsa3/balanco-dividendos', 'https://www.oceans14.com.br/acoes/sao-carlos/scar3/balanco-dividendos', 'https://www.oceans14.com.br/acoes/sanepar/sapr/balanco-dividendos', 'https://www.oceans14.com.br/acoes/azevedo-travassos/azev/balanco-dividendos', 'https://www.oceans14.com.br/acoes/minerva-foods/beef3/balanco-dividendos', 'https://www.oceans14.com.br/acoes/cambuci/camb3/balanco-dividendos', 'https://www.oceans14.com.br/acoes/moura-dubeux/mdne3/balanco-dividendos', 'https://www.oceans14.com.br/acoes/carrefour/crfb3/balanco-dividendos', 'https://www.oceans14.com.br/acoes/meliuz/cash3/balanco-dividendos', 'https://www.oceans14.com.br/acoes/trisul/tris3/balanco-dividendos', 'https://www.oceans14.com.br/acoes/eztec/eztc3/balanco-dividendos', 'https://www.oceans14.com.br/acoes/jbs/jbss3/balanco-dividendos', 'https://www.oceans14.com.br/acoes/getninjas/ninj3/balanco-dividendos', 'https://www.oceans14.com.br/acoes/br-brokers/bbrk3/balanco-dividendos', 'https://www.oceans14.com.br/acoes/jereissati/jpsa3/balanco-dividendos', 'https://www.oceans14.com.br/acoes/boa-safra/soja3/balanco-dividendos', 'https://www.oceans14.com.br/acoes/padtec/pdtc3/balanco-dividendos', 'https://www.oceans14.com.br/acoes/banco-pine/pine4/balanco-dividendos', 'https://www.oceans14.com.br/acoes/grendene/grnd3/balanco-dividendos', 'https://www.oceans14.com.br/acoes/marcopolo/pomo/balanco-dividendos', 'https://www.oceans14.com.br/acoes/gafisa/gfsa3/balanco-dividendos', 'https://www.oceans14.com.br/acoes/banco-abc-brasil/abcb4/balanco-dividendos', 'https://www.oceans14.com.br/acoes/banco-pan/bpan4/balanco-dividendos', 'https://www.oceans14.com.br/acoes/santos-brasil/stbp3/balanco-dividendos', 'https://www.oceans14.com.br/acoes/heringer/fher3/balanco-dividendos', 'https://www.oceans14.com.br/acoes/jhsf/jhsf3/balanco-dividendos', 'https://www.oceans14.com.br/acoes/multiplan/mult3/balanco-dividendos', 'https://www.oceans14.com.br/acoes/banco-bmg/bmgb4/balanco-dividendos', 'https://www.oceans14.com.br/acoes/grazziotin/cgra/balanco-dividendos', 'https://www.oceans14.com.br/acoes/qualicorp/qual3/balanco-dividendos', 'https://www.oceans14.com.br/acoes/taesa/taee11/balanco-dividendos', 'https://www.oceans14.com.br/acoes/mosaico/mosi3/balanco-dividendos', 'https://www.oceans14.com.br/acoes/braskem/brkm/balanco-dividendos', 'https://www.oceans14.com.br/acoes/lupatech/lupa3/balanco-dividendos', 'https://www.oceans14.com.br/acoes/banco-inter/bidi4/balanco-dividendos', 'https://www.oceans14.com.br/acoes/br-properties/brpr3/balanco-dividendos', 'https://www.oceans14.com.br/acoes/atom-participacoes/atom3/balanco-dividendos', 'https://www.oceans14.com.br/acoes/metalurgica-gerdau/goau/balanco-dividendos', 'https://www.oceans14.com.br/acoes/panvel/pnvl/balanco-dividendos', 'https://www.oceans14.com.br/acoes/petroleo-manguinhos/rpmg3/balanco-dividendos', 'https://www.oceans14.com.br/acoes/movida/movi3/balanco-dividendos', 'https://www.oceans14.com.br/acoes/azul/azul4/balanco-dividendos', 'https://www.oceans14.com.br/acoes/tupy/tupy3/balanco-dividendos', 'https://www.oceans14.com.br/acoes/d1000-varejo-farma/dmvf3/balanco-dividendos', 'https://www.oceans14.com.br/acoes/burger-king/bkbr3/balanco-dividendos', 'https://www.oceans14.com.br/acoes/eletrobras/elet/balanco-dividendos', 'https://www.oceans14.com.br/acoes/bombril/bobr4/balanco-dividendos', 'https://www.oceans14.com.br/acoes/cogna/cogn3/balanco-dividendos', 'https://www.oceans14.com.br/acoes/t4f/show3/balanco-dividendos', 'https://www.oceans14.com.br/acoes/randon/rapt/balanco-dividendos', 'https://www.oceans14.com.br/acoes/recrusul/rcsl/balanco-dividendos', 'https://www.oceans14.com.br/acoes/whirlpool/whrl/balanco-dividendos', 'https://www.oceans14.com.br/acoes/lojas-marisa/amar3/balanco-dividendos', 'https://www.oceans14.com.br/acoes/melnick-even/melk3/balanco-dividendos', 'https://www.oceans14.com.br/acoes/log-cp/logg3/balanco-dividendos', 'https://www.oceans14.com.br/acoes/oi/oibr/balanco-dividendos', 'https://www.oceans14.com.br/acoes/blau-farmaceutica/blau3/balanco-dividendos', 'https://www.oceans14.com.br/acoes/direcional/dirr3/balanco-dividendos', 'https://www.oceans14.com.br/acoes/romi/romi3/balanco-dividendos', 'https://www.oceans14.com.br/acoes/comgas/cgas/balanco-dividendos', 'https://www.oceans14.com.br/acoes/cielo/ciel3/balanco-dividendos', 'https://www.oceans14.com.br/acoes/jalles-machado/jall3/balanco-dividendos', 'https://www.oceans14.com.br/acoes/cruzeiro-sul-educacional/csed3/balanco-dividendos', 'https://www.oceans14.com.br/acoes/metal-leve/leve3/balanco-dividendos', 'https://www.oceans14.com.br/acoes/guararapes/guar3/balanco-dividendos', 'https://www.oceans14.com.br/acoes/enjoei/enju3/balanco-dividendos', 'https://www.oceans14.com.br/acoes/camil/caml3/balanco-dividendos', 'https://www.oceans14.com.br/acoes/wiz-solucoes/wizs3/balanco-dividendos', 'https://www.oceans14.com.br/acoes/bradesco/bbdc/balanco-dividendos', 'https://www.oceans14.com.br/acoes/lojas-americanas/lame/balanco-dividendos', 'https://www.oceans14.com.br/acoes/taurus/tasa/balanco-dividendos', 'https://www.oceans14.com.br/acoes/priner/prnr3/balanco-dividendos', 'https://www.oceans14.com.br/acoes/equatorial-energia/eqtl3/balanco-dividendos', 'https://www.oceans14.com.br/acoes/alliar/aalr3/balanco-dividendos', 'https://www.oceans14.com.br/acoes/technos/tecn3/balanco-dividendos', 'https://www.oceans14.com.br/acoes/tim-participacoes/tims3/balanco-dividendos', 'https://www.oceans14.com.br/acoes/sao-martinho/smto3/balanco-dividendos', 'https://www.oceans14.com.br/acoes/light/ligt3/balanco-dividendos', 'https://www.oceans14.com.br/acoes/hermes-pardini/pard3/balanco-dividendos', 'https://www.oceans14.com.br/acoes/notredame-intermedica/gndi3/balanco-dividendos', 'https://www.oceans14.com.br/acoes/metisa/mtsa4/balanco-dividendos', 'https://www.oceans14.com.br/acoes/banco-amazonia/baza3/balanco-dividendos', 'https://www.oceans14.com.br/acoes/edp/enbr3/balanco-dividendos', 'https://www.oceans14.com.br/acoes/modalmais/modl11/balanco-dividendos', 'https://www.oceans14.com.br/acoes/odontoprev/odpv3/balanco-dividendos', 'https://www.oceans14.com.br/acoes/ppla-participations/ppla11/balanco-dividendos', 'https://www.oceans14.com.br/acoes/irani/rani3/balanco-dividendos', 'https://www.oceans14.com.br/acoes/slc-agricola/slce3/balanco-dividendos', 'https://www.oceans14.com.br/acoes/brasil-agro/agro3/balanco-dividendos', 'https://www.oceans14.com.br/acoes/grupo-mateus/gmat3/balanco-dividendos', 'https://www.oceans14.com.br/acoes/tegma/tgma3/balanco-dividendos', 'https://www.oceans14.com.br/acoes/gol/goll4/balanco-dividendos', 'https://www.oceans14.com.br/acoes/hering/hgtx3/balanco-dividendos', 'https://www.oceans14.com.br/acoes/eletromidia/elmd3/balanco-dividendos', 'https://www.oceans14.com.br/acoes/bemobi/bmob3/balanco-dividendos', 'https://www.oceans14.com.br/acoes/caixa-seguridade/cxse3/balanco-dividendos', 'https://www.oceans14.com.br/acoes/focus-energia/powe3/balanco-dividendos', 'https://www.oceans14.com.br/acoes/banco-do-brasil/bbas3/balanco-dividendos', 'https://www.oceans14.com.br/acoes/aeris-energia/aeri3/balanco-dividendos', 'https://www.oceans14.com.br/acoes/portobello/ptbl3/balanco-dividendos', 'https://www.oceans14.com.br/acoes/suzano/suzb3/balanco-dividendos', 'https://www.oceans14.com.br/acoes/ambev/abev3/balanco-dividendos', 'https://www.oceans14.com.br/acoes/cyrela-properties/ccpr3/balanco-dividendos', 'https://www.oceans14.com.br/acoes/wilson-sons/wson33/balanco-dividendos', 'https://www.oceans14.com.br/acoes/magazine-luiza/mglu3/balanco-dividendos', 'https://www.oceans14.com.br/acoes/mitre/mtre3/balanco-dividendos', 'https://www.oceans14.com.br/acoes/helbor/hbor3/balanco-dividendos', 'https://www.oceans14.com.br/acoes/grupo-vamos/vamo3/balanco-dividendos', 'https://www.oceans14.com.br/acoes/profarma/pfrm3/balanco-dividendos', 'https://www.oceans14.com.br/acoes/bradespar/brap/balanco-dividendos', 'https://www.oceans14.com.br/acoes/csn/csna3/balanco-dividendos', 'https://www.oceans14.com.br/acoes/rodobens/rdni3/balanco-dividendos', 'https://www.oceans14.com.br/acoes/unicasa/ucas3/balanco-dividendos', 'https://www.oceans14.com.br/acoes/positivo-informatica/posi3/balanco-dividendos', 'https://www.oceans14.com.br/acoes/mrv/mrve3/balanco-dividendos', 'https://www.oceans14.com.br/acoes/embraer/embr3/balanco-dividendos', 'https://www.oceans14.com.br/acoes/saraiva/sled/balanco-dividendos', 'https://www.oceans14.com.br/acoes/irb/irbr3/balanco-dividendos', 'https://www.oceans14.com.br/acoes/itausa/itsa/balanco-dividendos', 'https://www.oceans14.com.br/acoes/cteep/trpl/balanco-dividendos', 'https://www.oceans14.com.br/acoes/general-shopping/gshp3/balanco-dividendos']\n"
     ]
    }
   ],
   "source": [
    "# Scraping url for all B3 Stocks data\n",
    "url = 'https://www.oceans14.com.br/acoes'\n",
    "page = req.get(url, headers=headers, timeout=15)\n",
    "soup = BeautifulSoup(page.content, 'html.parser')\n",
    "url_list = []\n",
    "for url in soup.find_all('a'):\n",
    "    if 'balanco-dividendos' in url.get('href'):\n",
    "        url_list.append('https://www.oceans14.com.br' + url.get('href'))\n",
    "\n",
    "url_list = list(set(url_list))\n",
    "url_list_loop = url_list\n",
    "print(len(url_list))\n",
    "print(url_list)"
   ]
  },
  {
   "cell_type": "code",
   "execution_count": 54,
   "metadata": {},
   "outputs": [],
   "source": [
    "# Save url_list to a csv(opcional)\n",
    "url_list_df = pd.DataFrame(url_list)\n",
    "url_list_df.to_csv(folder + 'url_list.txt', index=False, sep=';')"
   ]
  },
  {
   "cell_type": "code",
   "execution_count": 69,
   "metadata": {
    "scrolled": false
   },
   "outputs": [],
   "source": [
    "proxies = get_proxies(2*len(url_list))\n",
    "proxy_pool = cycle(proxies)"
   ]
  },
  {
   "cell_type": "code",
   "execution_count": 67,
   "metadata": {},
   "outputs": [],
   "source": [
    "# Save proxies to a csv(opcional)\n",
    "proxies_df = pd.DataFrame(proxies)\n",
    "proxies_df.to_csv(folder + 'proxies.txt', index=False, sep=';')"
   ]
  },
  {
   "cell_type": "code",
   "execution_count": 52,
   "metadata": {},
   "outputs": [],
   "source": [
    "# Exec in case of Exception Break(opcional)\n",
    "proxies_df = pd.read_csv('G:/Google Drive/Colab Notebooks/investHub/data/raw/proxies.txt', sep=';')\n",
    "proxies_df = pd.Series(proxies_df.iloc[:,0])\n",
    "proxies = proxies_df.values.tolist()\n",
    "proxy_pool = cycle(proxies)"
   ]
  },
  {
   "cell_type": "code",
   "execution_count": 28,
   "metadata": {
    "id": "pUBkQh8Y8rp2"
   },
   "outputs": [],
   "source": [
    "# Exec in case of Exception Break(opcional)\n",
    "df = pd.read_csv('G:/Google Drive/Colab Notebooks/investHub/data/raw/url_list.csv', sep=';')\n",
    "df = pd.Series(df.iloc[:,0])\n",
    "url_list = df.values.tolist()\n",
    "url_list_loop = url_list"
   ]
  },
  {
   "cell_type": "code",
   "execution_count": 72,
   "metadata": {
    "colab": {
     "base_uri": "https://localhost:8080/"
    },
    "executionInfo": {
     "elapsed": 82059,
     "status": "ok",
     "timestamp": 1623606531402,
     "user": {
      "displayName": "Felipe Trisotto",
      "photoUrl": "https://lh3.googleusercontent.com/a-/AOh14GhIkZu_o_HHZ56_oaRbxDklMWr2c1NzLwNmyHqptA=s64",
      "userId": "13510831874470761357"
     },
     "user_tz": 180
    },
    "id": "Ij8jXYjx_oYE",
    "outputId": "3e0b8364-3abf-46b7-ff8f-2a0670ec3f02",
    "scrolled": true
   },
   "outputs": [
    {
     "name": "stdout",
     "output_type": "stream",
     "text": [
      "0\n",
      "GSHP3.csv\n"
     ]
    }
   ],
   "source": [
    "wrns.filterwarnings('ignore')\n",
    "# Get data for each stocks\n",
    "for url in url_list_loop:\n",
    "    ticker_list = []\n",
    "    while True:\n",
    "        proxy = next(proxy_pool)\n",
    "        #time.sleep(random.randint(2, 10))\n",
    "        try:\n",
    "            ticker_req = req.get(url, headers=headers, timeout=5, verify=False, proxies={\"http\": proxy, \"https\": proxy})\n",
    "            ticker_page = ticker_req.content\n",
    "            soup = BeautifulSoup(ticker_page, 'html.parser')\n",
    "            ticker_data = pd.read_html(ticker_page, decimal=\",\", thousands=\".\", header=0, match= 'P/VP')\n",
    "            url_list.remove(url)\n",
    "            print(len(url_list))\n",
    "            # Get stock's ticker\n",
    "            for url in soup.find_all('h4'):\n",
    "                ticker_list.append(url.get_text('h4'))\n",
    "            \n",
    "            # Historical Fundamental Analysis indicators\n",
    "            for i in range(len(ticker_list)):\n",
    "                td_hist = ticker_data[i]\n",
    "                filename = ticker_list[i] + '.csv'\n",
    "                path = folder + filename\n",
    "                td_hist.to_csv(path, index=False, sep=';')\n",
    "                print(filename)\n",
    "              \n",
    "        except Exception as ex:\n",
    "            #print(ex)\n",
    "            #print('Connection Failed...')\n",
    "            continue\n",
    "        else:\n",
    "            break"
   ]
  }
 ],
 "metadata": {
  "colab": {
   "collapsed_sections": [],
   "name": "scrapyData.ipynb",
   "provenance": []
  },
  "kernelspec": {
   "display_name": "Python 3",
   "language": "python",
   "name": "python3"
  },
  "language_info": {
   "codemirror_mode": {
    "name": "ipython",
    "version": 3
   },
   "file_extension": ".py",
   "mimetype": "text/x-python",
   "name": "python",
   "nbconvert_exporter": "python",
   "pygments_lexer": "ipython3",
   "version": "3.8.3"
  }
 },
 "nbformat": 4,
 "nbformat_minor": 1
}
